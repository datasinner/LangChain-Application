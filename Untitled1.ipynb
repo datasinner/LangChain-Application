{
 "cells": [
  {
   "cell_type": "code",
   "execution_count": 1,
   "id": "10a7bc06-0004-4fe2-ad4b-5b01a7306787",
   "metadata": {},
   "outputs": [],
   "source": [
    "def three_number_sum(array, targetSum):\n",
    "    array.sort()\n",
    "    three_numer_sum = []\n",
    "    for i in range(1,len(array)-2):\n",
    "        left_idx = i + 1\n",
    "        right_idx = len(array) - 1\n",
    "        while left_idx < right_idx:\n",
    "            currentSum = array[i] + array[left_idx] + array[right_idx]\n",
    "            if currentSum < targetSum:\n",
    "                left_idx += 1\n",
    "            elif currentSum > targetSum:\n",
    "                right_idx -= 1\n",
    "            else:\n",
    "                three_numer_sum.append([array[i],array[left_idx],array[right_idx]])\n",
    "                left_idx +=1\n",
    "                right_idx -=1\n",
    "    return three_numer_sum"
   ]
  },
  {
   "cell_type": "code",
   "execution_count": null,
   "id": "0f2b3c3c-2ad1-4363-9dbf-80e19b2e2193",
   "metadata": {},
   "outputs": [],
   "source": []
  }
 ],
 "metadata": {
  "kernelspec": {
   "display_name": "Python 3 (ipykernel)",
   "language": "python",
   "name": "python3"
  },
  "language_info": {
   "codemirror_mode": {
    "name": "ipython",
    "version": 3
   },
   "file_extension": ".py",
   "mimetype": "text/x-python",
   "name": "python",
   "nbconvert_exporter": "python",
   "pygments_lexer": "ipython3",
   "version": "3.11.9"
  }
 },
 "nbformat": 4,
 "nbformat_minor": 5
}
